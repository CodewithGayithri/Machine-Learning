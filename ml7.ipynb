{
 "cells": [
  {
   "cell_type": "code",
   "execution_count": 1,
   "id": "2b3bbf5c-4539-4b22-a453-4facc7bf2adf",
   "metadata": {},
   "outputs": [],
   "source": [
    "import pandas as pd\n",
    "import numpy as np\n",
    "from sklearn.model_selection import train_test_split\n",
    "from sklearn.preprocessing import MinMaxScaler\n",
    "from sklearn.metrics import accuracy_score\n",
    "from math import sqrt\n"
   ]
  },
  {
   "cell_type": "code",
   "execution_count": 2,
   "id": "3a527ef4-03fb-47ce-80e4-629dafdcfaef",
   "metadata": {},
   "outputs": [
    {
     "name": "stdout",
     "output_type": "stream",
     "text": [
      "   Pregnancies  Glucose  BloodPressure  SkinThickness  Insulin   BMI  \\\n",
      "0            6      148             72             35        0  33.6   \n",
      "1            1       85             66             29        0  26.6   \n",
      "2            8      183             64              0        0  23.3   \n",
      "3            1       89             66             23       94  28.1   \n",
      "4            0      137             40             35      168  43.1   \n",
      "\n",
      "   DiabetesPedigreeFunction  Age  Outcome  \n",
      "0                     0.627   50        1  \n",
      "1                     0.351   31        0  \n",
      "2                     0.672   32        1  \n",
      "3                     0.167   21        0  \n",
      "4                     2.288   33        1  \n"
     ]
    }
   ],
   "source": [
    "# Load from online link\n",
    "url = \"https://raw.githubusercontent.com/jbrownlee/Datasets/master/pima-indians-diabetes.data.csv\"\n",
    "columns = ['Pregnancies', 'Glucose', 'BloodPressure', 'SkinThickness', 'Insulin',\n",
    "           'BMI', 'DiabetesPedigreeFunction', 'Age', 'Outcome']\n",
    "\n",
    "data = pd.read_csv(url, names=columns)\n",
    "print(data.head())\n"
   ]
  },
  {
   "cell_type": "code",
   "execution_count": 3,
   "id": "8054fd5d-b842-4223-b0d9-b440b2da2b0b",
   "metadata": {},
   "outputs": [],
   "source": [
    "# Replace 0s with median values in important columns\n",
    "cols_with_zero = ['Glucose', 'BloodPressure', 'SkinThickness', 'Insulin', 'BMI']\n",
    "\n",
    "for col in cols_with_zero:\n",
    "    data[col] = data[col].replace(0, np.nan)\n",
    "    data[col] = data[col].fillna(data[col].median()) \n",
    "\n",
    "# Normalize the data (values between 0 and 1)\n",
    "scaler = MinMaxScaler()\n",
    "X = scaler.fit_transform(data.drop('Outcome', axis=1))\n",
    "y = data['Outcome'].values\n"
   ]
  },
  {
   "cell_type": "code",
   "execution_count": 4,
   "id": "4b39243f-2fc1-42d4-8a14-71140997d257",
   "metadata": {},
   "outputs": [],
   "source": [
    "X_train, X_test, y_train, y_test = train_test_split(X, y, test_size=0.2, random_state=0)\n"
   ]
  },
  {
   "cell_type": "code",
   "execution_count": 5,
   "id": "eba27864-09b4-4388-8035-5b6efeabe1ef",
   "metadata": {},
   "outputs": [],
   "source": [
    "def euclidean_distance(a, b):\n",
    "    return sqrt(np.sum((a - b) ** 2))\n",
    "\n",
    "def manhattan_distance(a, b):\n",
    "    return np.sum(np.abs(a - b))\n",
    "\n",
    "def knn_predict(X_train, y_train, x_test, k=3, distance_type='euclidean'):\n",
    "    distances = []\n",
    "    for i in range(len(X_train)):\n",
    "        if distance_type == 'euclidean':\n",
    "            dist = euclidean_distance(X_train[i], x_test)\n",
    "        elif distance_type == 'manhattan':\n",
    "            dist = manhattan_distance(X_train[i], x_test)\n",
    "        distances.append((dist, y_train[i]))\n",
    "    \n",
    "    distances.sort(key=lambda x: x[0])  # Sort by distance\n",
    "    k_nearest = [label for (_, label) in distances[:k]]  # Get top k labels\n",
    "    prediction = max(set(k_nearest), key=k_nearest.count)  # Majority vote\n",
    "    return prediction\n"
   ]
  },
  {
   "cell_type": "code",
   "execution_count": 6,
   "id": "a190231a-943f-4455-a115-36eccdf5c009",
   "metadata": {},
   "outputs": [
    {
     "name": "stdout",
     "output_type": "stream",
     "text": [
      "K = 1 | Euclidean Accuracy = 0.688 | Manhattan Accuracy = 0.714\n",
      "K = 2 | Euclidean Accuracy = 0.773 | Manhattan Accuracy = 0.753\n",
      "K = 3 | Euclidean Accuracy = 0.786 | Manhattan Accuracy = 0.753\n",
      "K = 4 | Euclidean Accuracy = 0.786 | Manhattan Accuracy = 0.766\n",
      "K = 5 | Euclidean Accuracy = 0.779 | Manhattan Accuracy = 0.766\n",
      "K = 6 | Euclidean Accuracy = 0.792 | Manhattan Accuracy = 0.779\n",
      "K = 7 | Euclidean Accuracy = 0.766 | Manhattan Accuracy = 0.818\n",
      "K = 8 | Euclidean Accuracy = 0.792 | Manhattan Accuracy = 0.799\n",
      "K = 9 | Euclidean Accuracy = 0.792 | Manhattan Accuracy = 0.812\n",
      "K = 10 | Euclidean Accuracy = 0.831 | Manhattan Accuracy = 0.825\n"
     ]
    }
   ],
   "source": [
    "def test_knn_model(k, distance_type='euclidean'):\n",
    "    predictions = []\n",
    "    for i in range(len(X_test)):\n",
    "        pred = knn_predict(X_train, y_train, X_test[i], k=k, distance_type=distance_type)\n",
    "        predictions.append(pred)\n",
    "    return accuracy_score(y_test, predictions)\n",
    "\n",
    "# Try different k values\n",
    "for k in range(1, 11):\n",
    "    acc_euclidean = test_knn_model(k, distance_type='euclidean')\n",
    "    acc_manhattan = test_knn_model(k, distance_type='manhattan')\n",
    "    print(f\"K = {k} | Euclidean Accuracy = {acc_euclidean:.3f} | Manhattan Accuracy = {acc_manhattan:.3f}\")\n"
   ]
  },
  {
   "cell_type": "code",
   "execution_count": null,
   "id": "3f9e7842-0378-4285-a021-aa018f15ef89",
   "metadata": {},
   "outputs": [],
   "source": []
  }
 ],
 "metadata": {
  "kernelspec": {
   "display_name": "Python 3 (ipykernel)",
   "language": "python",
   "name": "python3"
  },
  "language_info": {
   "codemirror_mode": {
    "name": "ipython",
    "version": 3
   },
   "file_extension": ".py",
   "mimetype": "text/x-python",
   "name": "python",
   "nbconvert_exporter": "python",
   "pygments_lexer": "ipython3",
   "version": "3.13.1"
  }
 },
 "nbformat": 4,
 "nbformat_minor": 5
}
