{
 "cells": [
  {
   "cell_type": "code",
   "execution_count": 1,
   "id": "af85c364-913e-44de-9c67-b3aa3a6f9cc5",
   "metadata": {},
   "outputs": [
    {
     "name": "stdout",
     "output_type": "stream",
     "text": [
      "Decision Tree Rules:\n",
      "\n",
      "|--- Outlook_Overcast <= 0.50\n",
      "|   |--- Humidity_High <= 0.50\n",
      "|   |   |--- Wind_Weak <= 0.50\n",
      "|   |   |   |--- Outlook_Sunny <= 0.50\n",
      "|   |   |   |   |--- class: No\n",
      "|   |   |   |--- Outlook_Sunny >  0.50\n",
      "|   |   |   |   |--- class: Yes\n",
      "|   |   |--- Wind_Weak >  0.50\n",
      "|   |   |   |--- class: Yes\n",
      "|   |--- Humidity_High >  0.50\n",
      "|   |   |--- Outlook_Sunny <= 0.50\n",
      "|   |   |   |--- Wind_Strong <= 0.50\n",
      "|   |   |   |   |--- class: Yes\n",
      "|   |   |   |--- Wind_Strong >  0.50\n",
      "|   |   |   |   |--- class: No\n",
      "|   |   |--- Outlook_Sunny >  0.50\n",
      "|   |   |   |--- class: No\n",
      "|--- Outlook_Overcast >  0.50\n",
      "|   |--- class: Yes\n",
      "\n",
      "\n",
      "Prediction for new sample: PlayTennis = No\n"
     ]
    }
   ],
   "source": [
    "import pandas as pd\n",
    "from sklearn.tree import DecisionTreeClassifier, export_text\n",
    "\n",
    "# 1. Create dataset (Play Tennis)\n",
    "data = pd.DataFrame({\n",
    "    'Outlook': ['Sunny', 'Sunny', 'Overcast', 'Rain', 'Rain', 'Rain', 'Overcast', 'Sunny',\n",
    "                'Sunny', 'Rain', 'Sunny', 'Overcast', 'Overcast', 'Rain'],\n",
    "    'Temperature': ['Hot', 'Hot', 'Hot', 'Mild', 'Cool', 'Cool', 'Cool', 'Mild',\n",
    "                    'Cool', 'Mild', 'Mild', 'Mild', 'Hot', 'Mild'],\n",
    "    'Humidity': ['High', 'High', 'High', 'High', 'Normal', 'Normal', 'Normal', 'High',\n",
    "                 'Normal', 'Normal', 'Normal', 'High', 'Normal', 'High'],\n",
    "    'Wind': ['Weak', 'Strong', 'Weak', 'Weak', 'Weak', 'Strong', 'Strong', 'Weak',\n",
    "             'Weak', 'Weak', 'Strong', 'Strong', 'Weak', 'Strong'],\n",
    "    'PlayTennis': ['No', 'No', 'Yes', 'Yes', 'Yes', 'No', 'Yes', 'No',\n",
    "                   'Yes', 'Yes', 'Yes', 'Yes', 'Yes', 'No']\n",
    "})\n",
    "\n",
    "# 2. Convert text to numbers automatically\n",
    "X = pd.get_dummies(data[['Outlook', 'Temperature', 'Humidity', 'Wind']])\n",
    "y = data['PlayTennis']\n",
    "\n",
    "# 3. Train the Decision Tree (using 'entropy' = ID3)\n",
    "model = DecisionTreeClassifier(criterion='entropy')\n",
    "model.fit(X, y)\n",
    "\n",
    "# 4. Show the tree rules\n",
    "print(\"Decision Tree Rules:\\n\")\n",
    "print(export_text(model, feature_names=list(X.columns)))\n",
    "\n",
    "# 5. Predict new sample (Outlook=Sunny, Temperature=Cool, Humidity=High, Wind=Strong)\n",
    "new_sample = pd.DataFrame({\n",
    "    'Outlook': ['Sunny'],\n",
    "    'Temperature': ['Cool'],\n",
    "    'Humidity': ['High'],\n",
    "    'Wind': ['Strong']\n",
    "})\n",
    "\n",
    "# Convert to same dummy columns\n",
    "new_sample_encoded = pd.get_dummies(new_sample)\n",
    "new_sample_encoded = new_sample_encoded.reindex(columns=X.columns, fill_value=0)\n",
    "\n",
    "# Predict\n",
    "prediction = model.predict(new_sample_encoded)[0]\n",
    "print(\"\\nPrediction for new sample: PlayTennis =\", prediction)\n"
   ]
  },
  {
   "cell_type": "code",
   "execution_count": 3,
   "id": "9bb2104f-62af-43a0-a2f0-9d2bd98d8fe2",
   "metadata": {},
   "outputs": [
    {
     "name": "stdout",
     "output_type": "stream",
     "text": [
      "Decision Tree Rules:\n",
      "\n",
      "|--- Outlook_Sunny <= 0.50\n",
      "|   |--- class: Yes\n",
      "|--- Outlook_Sunny >  0.50\n",
      "|   |--- class: No\n",
      "\n",
      "\n",
      "Prediction for new sample: PlayTennis = No\n"
     ]
    }
   ],
   "source": [
    "import pandas as pd\n",
    "from sklearn.tree import DecisionTreeClassifier, export_text\n",
    "\n",
    "# 1. Very small dataset (6 records)\n",
    "data = pd.DataFrame({\n",
    "    'Outlook': ['Sunny', 'Sunny', 'Overcast', 'Rain', 'Rain', 'Overcast'],\n",
    "    'Temperature': ['Hot', 'Hot', 'Hot', 'Mild', 'Cool', 'Cool'],\n",
    "    'Humidity': ['High', 'High', 'High', 'High', 'Normal', 'Normal'],\n",
    "    'Wind': ['Weak', 'Strong', 'Weak', 'Weak', 'Weak', 'Strong'],\n",
    "    'PlayTennis': ['No', 'No', 'Yes', 'Yes', 'Yes', 'Yes']\n",
    "})\n",
    "\n",
    "# 2. Convert text to numbers using get_dummies\n",
    "X = pd.get_dummies(data[['Outlook', 'Temperature', 'Humidity', 'Wind']])\n",
    "y = data['PlayTennis']\n",
    "\n",
    "# 3. Train the decision tree (ID3)\n",
    "model = DecisionTreeClassifier(criterion='entropy')\n",
    "model.fit(X, y)\n",
    "\n",
    "# 4. Print decision rules\n",
    "print(\"Decision Tree Rules:\\n\")\n",
    "print(export_text(model, feature_names=list(X.columns)))\n",
    "\n",
    "# 5. Predict for a new sample: Outlook=Sunny, Temp=Hot, Humidity=High, Wind=Weak\n",
    "new_sample = pd.DataFrame({\n",
    "    'Outlook': ['Sunny'],\n",
    "    'Temperature': ['Hot'],\n",
    "    'Humidity': ['High'],\n",
    "    'Wind': ['Weak']\n",
    "})\n",
    "new_sample_encoded = pd.get_dummies(new_sample)\n",
    "new_sample_encoded = new_sample_encoded.reindex(columns=X.columns, fill_value=0)\n",
    "\n",
    "prediction = model.predict(new_sample_encoded)[0]\n",
    "print(\"\\nPrediction for new sample: PlayTennis =\", prediction)\n"
   ]
  },
  {
   "cell_type": "code",
   "execution_count": 3,
   "id": "e525bbdb-9198-4113-ad33-977e4661f654",
   "metadata": {},
   "outputs": [
    {
     "name": "stdout",
     "output_type": "stream",
     "text": [
      "Decision Tree\n",
      "|--- outlook_overcast <= 0.50\n",
      "|   |--- wind_weak <= 0.50\n",
      "|   |   |--- class: yes\n",
      "|   |--- wind_weak >  0.50\n",
      "|   |   |--- outlook_rainy <= 0.50\n",
      "|   |   |   |--- Temprature_hot <= 0.50\n",
      "|   |   |   |   |--- class: no\n",
      "|   |   |   |--- Temprature_hot >  0.50\n",
      "|   |   |   |   |--- class: yes\n",
      "|   |   |--- outlook_rainy >  0.50\n",
      "|   |   |   |--- class: no\n",
      "|--- outlook_overcast >  0.50\n",
      "|   |--- class: no\n",
      "\n",
      "['no']\n"
     ]
    }
   ],
   "source": [
    "import pandas as pd\n",
    "from sklearn.tree import DecisionTreeClassifier, export_text\n",
    "\n",
    "data = pd.DataFrame({\n",
    "    'outlook' : ['sunny', 'rainy', 'overcast', 'sunny', 'rainy', 'rainy'],\n",
    "    'Temprature': ['hot', 'hot', 'cool', 'mild', 'cool', 'hot'],\n",
    "    'humidity':['high', 'normal', 'high', 'high', 'normal','high'],\n",
    "    'wind' :['weak', 'weak', 'strong', 'weak', 'strong', 'weak' ],\n",
    "    'playTennis':['yes', 'no', 'no', 'no', 'yes', 'no']\n",
    "})\n",
    "\n",
    "X=pd.get_dummies(data[['outlook', 'Temprature', 'humidity', 'wind']])\n",
    "Y=data['playTennis']\n",
    "\n",
    "model= DecisionTreeClassifier(criterion='entropy')\n",
    "model.fit(X,Y)\n",
    "\n",
    "print(\"Decision Tree\")\n",
    "print(export_text(model, feature_names=(X.columns)))\n",
    "\n",
    "\n",
    "\n",
    "new_sample=pd.DataFrame({\n",
    "    'outlook': ['sunny'],\n",
    "    'Temprature': ['cool'],\n",
    "    'humidity':['high'],\n",
    "    'wind':['weak']\n",
    "})\n",
    "\n",
    "new_sample_encoded=pd.get_dummies(new_sample)\n",
    "new_sample_encoded=new_sample_encoded.reindex(columns=X.columns,fill_value=0)\n",
    "\n",
    "prediction= model.predict(new_sample_encoded)\n",
    "print(prediction)"
   ]
  },
  {
   "cell_type": "code",
   "execution_count": 2,
   "id": "a981a33c-9de8-4767-838c-73ab440be42d",
   "metadata": {},
   "outputs": [
    {
     "ename": "NameError",
     "evalue": "name 'X' is not defined",
     "output_type": "error",
     "traceback": [
      "\u001b[1;31m---------------------------------------------------------------------------\u001b[0m",
      "\u001b[1;31mNameError\u001b[0m                                 Traceback (most recent call last)",
      "Cell \u001b[1;32mIn[2], line 10\u001b[0m\n\u001b[0;32m      2\u001b[0m new_sample\u001b[38;5;241m=\u001b[39mpd\u001b[38;5;241m.\u001b[39mDataFrame({\n\u001b[0;32m      3\u001b[0m     \u001b[38;5;124m'\u001b[39m\u001b[38;5;124moutlook\u001b[39m\u001b[38;5;124m'\u001b[39m: [\u001b[38;5;124m'\u001b[39m\u001b[38;5;124msunny\u001b[39m\u001b[38;5;124m'\u001b[39m],\n\u001b[0;32m      4\u001b[0m     \u001b[38;5;124m'\u001b[39m\u001b[38;5;124mTemprature\u001b[39m\u001b[38;5;124m'\u001b[39m: [\u001b[38;5;124m'\u001b[39m\u001b[38;5;124mcool\u001b[39m\u001b[38;5;124m'\u001b[39m],\n\u001b[0;32m      5\u001b[0m     \u001b[38;5;124m'\u001b[39m\u001b[38;5;124mhumidity\u001b[39m\u001b[38;5;124m'\u001b[39m:[\u001b[38;5;124m'\u001b[39m\u001b[38;5;124mhigh\u001b[39m\u001b[38;5;124m'\u001b[39m],\n\u001b[0;32m      6\u001b[0m     \u001b[38;5;124m'\u001b[39m\u001b[38;5;124mwind\u001b[39m\u001b[38;5;124m'\u001b[39m:[\u001b[38;5;124m'\u001b[39m\u001b[38;5;124mweak\u001b[39m\u001b[38;5;124m'\u001b[39m]\n\u001b[0;32m      7\u001b[0m })\n\u001b[0;32m      9\u001b[0m new_sample_encoded\u001b[38;5;241m=\u001b[39mpd\u001b[38;5;241m.\u001b[39mget_dummies(new_sample)\n\u001b[1;32m---> 10\u001b[0m new_sample_encoded\u001b[38;5;241m=\u001b[39mnew_sample_encoded\u001b[38;5;241m.\u001b[39mreindex(columns\u001b[38;5;241m=\u001b[39m\u001b[43mX\u001b[49m\u001b[38;5;241m.\u001b[39mcolumns,fill_value\u001b[38;5;241m=\u001b[39m\u001b[38;5;241m0\u001b[39m)\n\u001b[0;32m     12\u001b[0m prediction\u001b[38;5;241m=\u001b[39m model\u001b[38;5;241m.\u001b[39mpredict(new_sample_encoded)\n\u001b[0;32m     13\u001b[0m \u001b[38;5;28mprint\u001b[39m(prediction)\n",
      "\u001b[1;31mNameError\u001b[0m: name 'X' is not defined"
     ]
    }
   ],
   "source": [
    "\n",
    "new_sample=pd.DataFrame({\n",
    "    'outlook': ['sunny'],\n",
    "    'Temprature': ['cool'],\n",
    "    'humidity':['high'],\n",
    "    'wind':['weak']\n",
    "})\n",
    "\n",
    "new_sample_encoded=pd.get_dummies(new_sample)\n",
    "new_sample_encoded=new_sample_encoded.reindex(columns=X.columns,fill_value=0)\n",
    "\n",
    "prediction= model.predict(new_sample_encoded)\n",
    "print(prediction)"
   ]
  },
  {
   "cell_type": "code",
   "execution_count": null,
   "id": "3bf7d55a-60d9-4d1c-93b1-745c66a130c2",
   "metadata": {},
   "outputs": [],
   "source": []
  }
 ],
 "metadata": {
  "kernelspec": {
   "display_name": "Python 3 (ipykernel)",
   "language": "python",
   "name": "python3"
  },
  "language_info": {
   "codemirror_mode": {
    "name": "ipython",
    "version": 3
   },
   "file_extension": ".py",
   "mimetype": "text/x-python",
   "name": "python",
   "nbconvert_exporter": "python",
   "pygments_lexer": "ipython3",
   "version": "3.13.1"
  }
 },
 "nbformat": 4,
 "nbformat_minor": 5
}
