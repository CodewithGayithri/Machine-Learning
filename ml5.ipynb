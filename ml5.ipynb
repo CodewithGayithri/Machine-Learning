{
 "cells": [
  {
   "cell_type": "code",
   "execution_count": 1,
   "id": "3cde57a0-f425-4bec-8ae8-4ea0fd2e0c2f",
   "metadata": {},
   "outputs": [
    {
     "name": "stdout",
     "output_type": "stream",
     "text": [
      "Confusion Matrix:\n",
      " [[2 0]\n",
      " [0 1]]\n",
      "Accuracy: 1.0\n",
      "Precision: 1.0\n",
      "Recall: 1.0\n",
      "MSE: 0.004446850386619602\n",
      "RMSE: 0.06668470879159331\n",
      "\n",
      "New Predictions:\n",
      "Petal length: 1.3, Predicted class: 1\n",
      "Petal length: 4.6, Predicted class: 0\n",
      "Petal length: 5.8, Predicted class: 0\n"
     ]
    }
   ],
   "source": [
    "import pandas as pd\n",
    "from sklearn.linear_model import LogisticRegression\n",
    "from sklearn.model_selection import train_test_split\n",
    "from sklearn.metrics import accuracy_score, confusion_matrix, precision_score, recall_score, mean_squared_error\n",
    "import numpy as np\n",
    "\n",
    "# Step 1: Create dataset with some new samples added\n",
    "data = pd.DataFrame({\n",
    "    'petal_length': [1.0, 1.5, 2.0, 4.5, 5.0, 6.0, 1.2, 1.8, 5.5, 4.8],  # Added new points\n",
    "    'class':        [1,   1,   1,   0,   0,   0,   1,   1,   0,   0]\n",
    "})\n",
    "\n",
    "# Step 2: Separate feature (X) and label (y)\n",
    "X = data[['petal_length']]  # Feature must be 2D\n",
    "y = data['class']           # Label\n",
    "\n",
    "# Step 3: Train-test split\n",
    "X_train, X_test, y_train, y_test = train_test_split(X, y, test_size=0.3, random_state=42)\n",
    "\n",
    "# Step 4: Train logistic regression model\n",
    "model = LogisticRegression()\n",
    "model.fit(X_train, y_train)\n",
    "\n",
    "# Step 5: Predict on test data\n",
    "y_pred = model.predict(X_test)\n",
    "y_prob = model.predict_proba(X_test)[:, 1]  # Get predicted probabilities\n",
    "\n",
    "# Step 6: Evaluation\n",
    "print(\"Confusion Matrix:\\n\", confusion_matrix(y_test, y_pred))\n",
    "print(\"Accuracy:\", accuracy_score(y_test, y_pred))\n",
    "print(\"Precision:\", precision_score(y_test, y_pred))\n",
    "print(\"Recall:\", recall_score(y_test, y_pred))\n",
    "print(\"MSE:\", mean_squared_error(y_test, y_prob))\n",
    "print(\"RMSE:\", np.sqrt(mean_squared_error(y_test, y_prob)))\n",
    "\n",
    "# Step 7: Try predicting on new data\n",
    "new_data = pd.DataFrame({'petal_length': [1.3, 4.6, 5.8]})\n",
    "new_pred = model.predict(new_data)\n",
    "\n",
    "print(\"\\nNew Predictions:\")\n",
    "for i in range(len(new_data)):\n",
    "    print(f\"Petal length: {new_data.petal_length[i]}, Predicted class: {new_pred[i]}\")\n"
   ]
  },
  {
   "cell_type": "code",
   "execution_count": 3,
   "id": "84015267-a754-47db-bafe-e80ddb1bd270",
   "metadata": {},
   "outputs": [
    {
     "name": "stdout",
     "output_type": "stream",
     "text": [
      "new prediction\n",
      "1\n",
      "0\n"
     ]
    }
   ],
   "source": [
    "new_data=pd.DataFrame({\n",
    "    'petal_length':['2.3','4.5']})\n",
    "new_pred=model.predict(new_data)\n",
    "\n",
    "print(\"new prediction\")\n",
    "for i in range(len(new_data)):\n",
    "    print(new_pred[i])"
   ]
  },
  {
   "cell_type": "code",
   "execution_count": null,
   "id": "8496fc99-83e0-4549-a22d-b32ed6fb3b01",
   "metadata": {},
   "outputs": [],
   "source": []
  }
 ],
 "metadata": {
  "kernelspec": {
   "display_name": "Python 3 (ipykernel)",
   "language": "python",
   "name": "python3"
  },
  "language_info": {
   "codemirror_mode": {
    "name": "ipython",
    "version": 3
   },
   "file_extension": ".py",
   "mimetype": "text/x-python",
   "name": "python",
   "nbconvert_exporter": "python",
   "pygments_lexer": "ipython3",
   "version": "3.13.1"
  }
 },
 "nbformat": 4,
 "nbformat_minor": 5
}
